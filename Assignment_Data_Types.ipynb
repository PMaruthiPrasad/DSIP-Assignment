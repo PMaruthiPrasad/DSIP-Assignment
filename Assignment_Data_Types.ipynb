{
  "nbformat": 4,
  "nbformat_minor": 0,
  "metadata": {
    "colab": {
      "provenance": []
    },
    "kernelspec": {
      "name": "python3",
      "display_name": "Python 3"
    },
    "language_info": {
      "name": "python"
    }
  },
  "cells": [
    {
      "cell_type": "code",
      "execution_count": null,
      "metadata": {
        "id": "oes5Pig4zq-9"
      },
      "outputs": [],
      "source": [
        "# Q1. Write a function that takes a variable as input and returns its data type."
      ]
    },
    {
      "cell_type": "code",
      "source": [
        "def get_data_type(var):\n",
        "    return type(var)"
      ],
      "metadata": {
        "id": "UYoU1m670DnS"
      },
      "execution_count": null,
      "outputs": []
    },
    {
      "cell_type": "code",
      "source": [
        "print(get_data_type(5))\n",
        "print(get_data_type('5'))\n",
        "print(get_data_type(5.0))\n",
        "print(get_data_type(True))"
      ],
      "metadata": {
        "colab": {
          "base_uri": "https://localhost:8080/"
        },
        "id": "KXos4-Ga0FNh",
        "outputId": "1a437c31-036c-4efd-8e74-d669cdab7c3d"
      },
      "execution_count": null,
      "outputs": [
        {
          "output_type": "stream",
          "name": "stdout",
          "text": [
            "<class 'int'>\n",
            "<class 'str'>\n",
            "<class 'float'>\n",
            "<class 'bool'>\n"
          ]
        }
      ]
    },
    {
      "cell_type": "code",
      "source": [
        "#Q2.Write a function that takes a string as input and returns its length."
      ],
      "metadata": {
        "id": "CClCERdn0G2l"
      },
      "execution_count": null,
      "outputs": []
    },
    {
      "cell_type": "code",
      "source": [
        "def get_string_length(string):\n",
        "    return len(string)"
      ],
      "metadata": {
        "id": "OMNfigue0Mcg"
      },
      "execution_count": null,
      "outputs": []
    },
    {
      "cell_type": "code",
      "source": [
        "print(get_string_length('hello'))\n",
        "print(get_string_length(''))\n",
        "print(get_string_length('python'))\n",
        "print(get_string_length('Data Science'))"
      ],
      "metadata": {
        "colab": {
          "base_uri": "https://localhost:8080/"
        },
        "id": "EZ8aBSXl0MfF",
        "outputId": "f2354765-a9fd-4185-d251-1baa7581f487"
      },
      "execution_count": null,
      "outputs": [
        {
          "output_type": "stream",
          "name": "stdout",
          "text": [
            "5\n",
            "0\n",
            "6\n",
            "12\n"
          ]
        }
      ]
    },
    {
      "cell_type": "code",
      "source": [
        "# Q3. Write a function that takes a number as input and returns True if it is even, False otherwise."
      ],
      "metadata": {
        "id": "382E-XVI0MhV"
      },
      "execution_count": null,
      "outputs": []
    },
    {
      "cell_type": "code",
      "source": [
        "def is_even(num):\n",
        "    if num%2==0:\n",
        "        return True\n",
        "    return False"
      ],
      "metadata": {
        "id": "gVOPertF0XoQ"
      },
      "execution_count": null,
      "outputs": []
    },
    {
      "cell_type": "code",
      "source": [
        "print(is_even(2))\n",
        "print(is_even(3))\n",
        "print(is_even(0))\n",
        "print(is_even(100))\n",
        "print(is_even(101))"
      ],
      "metadata": {
        "colab": {
          "base_uri": "https://localhost:8080/"
        },
        "id": "SaO5hw6r0XsJ",
        "outputId": "76775f28-79c9-45ad-b250-d7cf97c3a918"
      },
      "execution_count": null,
      "outputs": [
        {
          "output_type": "stream",
          "name": "stdout",
          "text": [
            "True\n",
            "False\n",
            "True\n",
            "True\n",
            "False\n"
          ]
        }
      ]
    },
    {
      "cell_type": "code",
      "source": [
        "#Q4.Write a function that takes a string as input and returns the string converted to uppercase."
      ],
      "metadata": {
        "id": "LoY9dvqR0XvW"
      },
      "execution_count": null,
      "outputs": []
    },
    {
      "cell_type": "code",
      "source": [
        "def to_uppercase(string):\n",
        "    new_string=''\n",
        "    for char in string:\n",
        "        new_string+=char.upper()\n",
        "    return new_string"
      ],
      "metadata": {
        "id": "-IK70p5G0fWG"
      },
      "execution_count": null,
      "outputs": []
    },
    {
      "cell_type": "code",
      "source": [
        "print(to_uppercase(\"Hello\"))\n",
        "print(to_uppercase(\"Python\"))\n",
        "print(to_uppercase(\"Data Science\"))\n",
        "print(to_uppercase(\"\"))"
      ],
      "metadata": {
        "colab": {
          "base_uri": "https://localhost:8080/"
        },
        "id": "n8tGPE2d0fY0",
        "outputId": "fc68ef6d-bd27-4f8f-ddb8-4b51fa08f7b6"
      },
      "execution_count": null,
      "outputs": [
        {
          "output_type": "stream",
          "name": "stdout",
          "text": [
            "HELLO\n",
            "PYTHON\n",
            "DATA SCIENCE\n",
            "\n"
          ]
        }
      ]
    },
    {
      "cell_type": "code",
      "source": [
        "#Q5.     Write a function that takes a list as input and returns the last element of the list."
      ],
      "metadata": {
        "id": "sy9P5D1x0fbI"
      },
      "execution_count": null,
      "outputs": []
    },
    {
      "cell_type": "code",
      "source": [
        "def get_last_element(lst):\n",
        "    if len(lst)<1:\n",
        "        return None\n",
        "    return lst[-1]"
      ],
      "metadata": {
        "id": "kmNttSDy0fdL"
      },
      "execution_count": null,
      "outputs": []
    },
    {
      "cell_type": "code",
      "source": [
        "print(get_last_element([1, 2, 3, 4, 5]))\n",
        "print(get_last_element([\"apple\", \"banana\", \"cherry\"]))\n",
        "print(get_last_element([]))"
      ],
      "metadata": {
        "colab": {
          "base_uri": "https://localhost:8080/"
        },
        "id": "pepkf4Pv0Xxt",
        "outputId": "32fb5bac-fe8b-4253-cc34-c17e91d6987f"
      },
      "execution_count": null,
      "outputs": [
        {
          "output_type": "stream",
          "name": "stdout",
          "text": [
            "5\n",
            "cherry\n",
            "None\n"
          ]
        }
      ]
    },
    {
      "cell_type": "code",
      "source": [
        "# Q6.Write a function that takes a number as input and returns True if it is a prime number, False otherwise."
      ],
      "metadata": {
        "id": "nQMS5CIa0usp"
      },
      "execution_count": null,
      "outputs": []
    },
    {
      "cell_type": "code",
      "source": [
        "def is_prime(num):\n",
        "    for i in range (2,num):\n",
        "        if num%i==0:\n",
        "            return False\n",
        "            break\n",
        "    else:\n",
        "        return True"
      ],
      "metadata": {
        "id": "gDjTUprD0yKU"
      },
      "execution_count": null,
      "outputs": []
    },
    {
      "cell_type": "code",
      "source": [
        "print(is_prime(2))\n",
        "print(is_prime(3))\n",
        "print(is_prime(4))\n",
        "print(is_prime(5))\n",
        "print(is_prime(6))"
      ],
      "metadata": {
        "colab": {
          "base_uri": "https://localhost:8080/"
        },
        "id": "lHDnLc-g0yNX",
        "outputId": "2e048b3b-1757-404e-98eb-eea7188b8ea9"
      },
      "execution_count": null,
      "outputs": [
        {
          "output_type": "stream",
          "name": "stdout",
          "text": [
            "True\n",
            "True\n",
            "False\n",
            "True\n",
            "False\n"
          ]
        }
      ]
    },
    {
      "cell_type": "code",
      "source": [
        "# Q7.Write a function that takes a string as input and returns True if it is a palindrome, False otherwise."
      ],
      "metadata": {
        "id": "Hr8YZnX90yPZ"
      },
      "execution_count": null,
      "outputs": []
    },
    {
      "cell_type": "code",
      "source": [
        "def is_palindrome(string):\n",
        "    return string==string[::-1]"
      ],
      "metadata": {
        "id": "Qg4Md0oJ0yR0"
      },
      "execution_count": null,
      "outputs": []
    },
    {
      "cell_type": "code",
      "source": [
        "print(is_palindrome(\"racecar\"))\n",
        "print(is_palindrome(\"hello\"))\n",
        "print(is_palindrome(\"madam\"))\n",
        "print(is_palindrome(\"\"))"
      ],
      "metadata": {
        "colab": {
          "base_uri": "https://localhost:8080/"
        },
        "id": "R2aHAqrk0yUC",
        "outputId": "1cf43fae-8994-4ecd-f481-09cfe012128f"
      },
      "execution_count": null,
      "outputs": [
        {
          "output_type": "stream",
          "name": "stdout",
          "text": [
            "True\n",
            "False\n",
            "True\n",
            "True\n"
          ]
        }
      ]
    },
    {
      "cell_type": "code",
      "source": [
        "# Q8.Write a function that takes a list of numbers as input and returns the sum of all the numbers in the list."
      ],
      "metadata": {
        "id": "0Xszyd540yWO"
      },
      "execution_count": null,
      "outputs": []
    },
    {
      "cell_type": "code",
      "source": [
        "def sum_list(lst):\n",
        "    return sum(lst)"
      ],
      "metadata": {
        "id": "LDVnSthr1Bm8"
      },
      "execution_count": null,
      "outputs": []
    },
    {
      "cell_type": "code",
      "source": [
        "print(sum_list([1, 2, 3, 4, 5]))\n",
        "print(sum_list([-1, 0, 1]))\n",
        "print(sum_list([]))"
      ],
      "metadata": {
        "colab": {
          "base_uri": "https://localhost:8080/"
        },
        "id": "3c-nv8u41Bpk",
        "outputId": "40c0e4ef-f076-46c7-f5d1-35fc87a500a0"
      },
      "execution_count": null,
      "outputs": [
        {
          "output_type": "stream",
          "name": "stdout",
          "text": [
            "15\n",
            "0\n",
            "0\n"
          ]
        }
      ]
    },
    {
      "cell_type": "code",
      "source": [
        "# Q9. Write a function that takes a string as input and returns the string reversed."
      ],
      "metadata": {
        "id": "whOTrH3o1Br9"
      },
      "execution_count": null,
      "outputs": []
    },
    {
      "cell_type": "code",
      "source": [
        "def reverse_string(string):\n",
        "    return string[::-1]"
      ],
      "metadata": {
        "id": "UZ8BqBpi1J2b"
      },
      "execution_count": null,
      "outputs": []
    },
    {
      "cell_type": "code",
      "source": [
        "print(reverse_string(\"hello\"))\n",
        "print(reverse_string(\"Python\"))\n",
        "print(reverse_string(\"\"))"
      ],
      "metadata": {
        "colab": {
          "base_uri": "https://localhost:8080/"
        },
        "id": "ukjZrKGh1J5V",
        "outputId": "0a2b8a98-1346-4cb6-da03-88eda3380751"
      },
      "execution_count": null,
      "outputs": [
        {
          "output_type": "stream",
          "name": "stdout",
          "text": [
            "olleh\n",
            "nohtyP\n",
            "\n"
          ]
        }
      ]
    },
    {
      "cell_type": "code",
      "source": [
        "# Q10.Write a function that takes a list of strings as input and returns a new list containing only the strings that start with a vowel."
      ],
      "metadata": {
        "id": "4qj2TkcT1J8h"
      },
      "execution_count": null,
      "outputs": []
    },
    {
      "cell_type": "code",
      "source": [
        "def filter_vowels(strings):\n",
        "    new_list=[]\n",
        "    for word in strings:\n",
        "        if word[0] in 'aeiou':\n",
        "            new_list.append(word)\n",
        "    return new_list"
      ],
      "metadata": {
        "id": "Y52jnzrn1SJb"
      },
      "execution_count": null,
      "outputs": []
    },
    {
      "cell_type": "code",
      "source": [
        "print(filter_vowels([\"apple\", \"banana\", \"cherry\", \"orange\", \"pear\"]))\n",
        "print(filter_vowels([\"hello\", \"world\"]))\n",
        "print(filter_vowels([]))"
      ],
      "metadata": {
        "colab": {
          "base_uri": "https://localhost:8080/"
        },
        "id": "Yfe5rThj1SML",
        "outputId": "b35adf78-7b2f-4fb2-97cd-0d91c9655c32"
      },
      "execution_count": null,
      "outputs": [
        {
          "output_type": "stream",
          "name": "stdout",
          "text": [
            "['apple', 'orange']\n",
            "[]\n",
            "[]\n"
          ]
        }
      ]
    }
  ]
}