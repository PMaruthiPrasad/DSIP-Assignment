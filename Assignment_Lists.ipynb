{
  "nbformat": 4,
  "nbformat_minor": 0,
  "metadata": {
    "colab": {
      "provenance": []
    },
    "kernelspec": {
      "name": "python3",
      "display_name": "Python 3"
    },
    "language_info": {
      "name": "python"
    }
  },
  "cells": [
    {
      "cell_type": "code",
      "execution_count": null,
      "metadata": {
        "id": "gwwdOaa81pAA"
      },
      "outputs": [],
      "source": [
        "#Q1. Design a Python function named `remove_duplicates` to remove duplicates from a list."
      ]
    },
    {
      "cell_type": "code",
      "source": [
        "def remove_duplicates(lst):\n",
        "    return list(set(lst))"
      ],
      "metadata": {
        "id": "v8T4UY1W10pn"
      },
      "execution_count": null,
      "outputs": []
    },
    {
      "cell_type": "code",
      "source": [
        "print(remove_duplicates([1, 2, 3, 2, 4, 3, 5]))\n",
        "print(remove_duplicates(['a', 'b', 'c', 'a', 'd', 'b']))"
      ],
      "metadata": {
        "colab": {
          "base_uri": "https://localhost:8080/"
        },
        "id": "j1o4gPu010sM",
        "outputId": "6deb8e3c-c839-4a86-e1b6-233454de2796"
      },
      "execution_count": null,
      "outputs": [
        {
          "output_type": "stream",
          "name": "stdout",
          "text": [
            "[1, 2, 3, 4, 5]\n",
            "['a', 'd', 'b', 'c']\n"
          ]
        }
      ]
    },
    {
      "cell_type": "code",
      "source": [
        "#Q2.    Design a Python function named `flatten_list` to flatten a nested list into a single list."
      ],
      "metadata": {
        "id": "vAAe5Vam10ua"
      },
      "execution_count": null,
      "outputs": []
    },
    {
      "cell_type": "code",
      "source": [
        "def flatten_list(nested_lst):\n",
        "    new_list=[]\n",
        "    for element in nested_lst:\n",
        "        if isinstance(element,list):\n",
        "            new_list.extend(flatten_list(element))\n",
        "        else:\n",
        "            new_list.append(element)\n",
        "    return new_list"
      ],
      "metadata": {
        "id": "8Yy0h9Fm10yj"
      },
      "execution_count": null,
      "outputs": []
    },
    {
      "cell_type": "code",
      "source": [
        "print(flatten_list([[1, 2, 3], [4, 5], [6, 7, 8]]))\n",
        "print(flatten_list([[1, 2], [3, [4, 5]], [6], [7, 8, [9, 10]]]))"
      ],
      "metadata": {
        "colab": {
          "base_uri": "https://localhost:8080/"
        },
        "id": "J3khN82q101K",
        "outputId": "b594dc5f-74ad-4940-aeb4-e0186f2d2e99"
      },
      "execution_count": null,
      "outputs": [
        {
          "output_type": "stream",
          "name": "stdout",
          "text": [
            "[1, 2, 3, 4, 5, 6, 7, 8]\n",
            "[1, 2, 3, 4, 5, 6, 7, 8, 9, 10]\n"
          ]
        }
      ]
    },
    {
      "cell_type": "code",
      "source": [
        "#Q3.Design a Python function named `split_even_odd` to split a list into two lists containing even and odd elements respectively.    Returns:Tuple containing two lists - one with even elements and one with odd elements (tuple)"
      ],
      "metadata": {
        "id": "-IAv8QE3105N"
      },
      "execution_count": null,
      "outputs": []
    },
    {
      "cell_type": "code",
      "source": [
        "def split_even_odd(lst):\n",
        "    even_list=[]\n",
        "    odd_list=[]\n",
        "    for element in lst:\n",
        "        if element%2==0:\n",
        "            even_list.append(element)\n",
        "        else:\n",
        "            odd_list.append(element)\n",
        "    return even_list,odd_list"
      ],
      "metadata": {
        "id": "t-ikOI0Z1094"
      },
      "execution_count": null,
      "outputs": []
    },
    {
      "cell_type": "code",
      "source": [
        "print(split_even_odd([1, 2, 3, 4, 5, 6, 7, 8, 9, 10]))\n",
        "print(split_even_odd([11, 22, 33, 44, 55, 66, 77, 88, 99, 100]))"
      ],
      "metadata": {
        "colab": {
          "base_uri": "https://localhost:8080/"
        },
        "id": "mqs7D00b11Av",
        "outputId": "07e59951-d5b2-4cab-a336-65f0c81a7088"
      },
      "execution_count": null,
      "outputs": [
        {
          "output_type": "stream",
          "name": "stdout",
          "text": [
            "([2, 4, 6, 8, 10], [1, 3, 5, 7, 9])\n",
            "([22, 44, 66, 88, 100], [11, 33, 55, 77, 99])\n"
          ]
        }
      ]
    },
    {
      "cell_type": "code",
      "source": [
        "#Q4. Design a Python function named `rotate_list` to rotate a list to the right by k steps."
      ],
      "metadata": {
        "id": "WrEf5cKu11DJ"
      },
      "execution_count": null,
      "outputs": []
    },
    {
      "cell_type": "code",
      "source": [
        "def rotate_list(lst, k):\n",
        "    k%=len(lst)\n",
        "    return lst[-k:]+lst[:-k]"
      ],
      "metadata": {
        "id": "7OKTZ-5B11GA"
      },
      "execution_count": null,
      "outputs": []
    },
    {
      "cell_type": "code",
      "source": [
        "print(rotate_list([1, 2, 3, 4, 5], 2))\n",
        "print(rotate_list(['a', 'b', 'c', 'd', 'e'], 3))"
      ],
      "metadata": {
        "colab": {
          "base_uri": "https://localhost:8080/"
        },
        "id": "HFRYD35011Iv",
        "outputId": "9bf1ac97-880e-4abb-faef-73e13c8e66d1"
      },
      "execution_count": null,
      "outputs": [
        {
          "output_type": "stream",
          "name": "stdout",
          "text": [
            "[4, 5, 1, 2, 3]\n",
            "['c', 'd', 'e', 'a', 'b']\n"
          ]
        }
      ]
    },
    {
      "cell_type": "code",
      "source": [
        "#Q5.Design a Python function named `merge_sorted_lists` to merge two sorted lists into a single sorted list."
      ],
      "metadata": {
        "id": "Bslf4EJA11K1"
      },
      "execution_count": null,
      "outputs": []
    },
    {
      "cell_type": "code",
      "source": [
        "def merge_sorted_lists(lst1, lst2):\n",
        "    new_list=[]\n",
        "    i=0\n",
        "    j=0\n",
        "    while i<len(lst1) and j<len(lst2):\n",
        "        if lst1[i]<lst2[j]:\n",
        "            new_list.append(lst1[i])\n",
        "            i+=1\n",
        "        else:\n",
        "            new_list.append(lst2[j])\n",
        "            j+=1\n",
        "    while i<len(lst1):\n",
        "        new_list.append(lst1[i])\n",
        "        i+=1\n",
        "        #new_list.extend(lst1[i:])\n",
        "    while j<len(lst2):\n",
        "        new_list.append(lst2[j])\n",
        "        j+=1\n",
        "        #new_list.extend(lst2[j:])\n",
        "    return new_list"
      ],
      "metadata": {
        "id": "_a62o1DF11NI"
      },
      "execution_count": null,
      "outputs": []
    },
    {
      "cell_type": "code",
      "source": [
        "print(merge_sorted_lists([1, 3, 5], [2, 4, 6]))\n",
        "print(merge_sorted_lists(['a', 'c', 'e'], ['b', 'd', 'f']))"
      ],
      "metadata": {
        "colab": {
          "base_uri": "https://localhost:8080/"
        },
        "id": "BcGXgK-211Pp",
        "outputId": "ea7b4fd1-912b-402e-bd7a-a38b4f897dc7"
      },
      "execution_count": null,
      "outputs": [
        {
          "output_type": "stream",
          "name": "stdout",
          "text": [
            "[1, 2, 3, 4, 5, 6]\n",
            "['a', 'b', 'c', 'd', 'e', 'f']\n"
          ]
        }
      ]
    },
    {
      "cell_type": "code",
      "source": [
        "#Q6.    Design a Python function named remove_consecutive_duplicates` to remove consecutive duplicates from a list."
      ],
      "metadata": {
        "id": "260UcdI211Sq"
      },
      "execution_count": null,
      "outputs": []
    },
    {
      "cell_type": "code",
      "source": [
        "def remove_consecutive_duplicates(lst):\n",
        "    new_list=[]\n",
        "    new_list.append(lst[0])\n",
        "    for i in range(1,len(lst)):\n",
        "        if lst[i-1]!=lst[i]:\n",
        "            new_list.append(lst[i])\n",
        "    return new_list"
      ],
      "metadata": {
        "id": "jWRrpZGI11Uv"
      },
      "execution_count": null,
      "outputs": []
    },
    {
      "cell_type": "code",
      "source": [
        "print(remove_consecutive_duplicates([1, 2, 2, 3, 3, 3, 4, 4, 4, 4]))\n",
        "print(remove_consecutive_duplicates(['a', 'b', 'b', 'c', 'c', 'c', 'd', 'd', 'd', 'e', 'e']))"
      ],
      "metadata": {
        "colab": {
          "base_uri": "https://localhost:8080/"
        },
        "id": "zOJdXFVy11Wf",
        "outputId": "c7f82ad9-d03c-4bef-951d-3ddd9b66bb43"
      },
      "execution_count": null,
      "outputs": [
        {
          "output_type": "stream",
          "name": "stdout",
          "text": [
            "[1, 2, 3, 4]\n",
            "['a', 'b', 'c', 'd', 'e']\n"
          ]
        }
      ]
    },
    {
      "cell_type": "code",
      "source": [
        "#Q7.Design a Python function named `shuffle_list` to shuffle the elements of a list."
      ],
      "metadata": {
        "id": "d1di57Fv11ZL"
      },
      "execution_count": null,
      "outputs": []
    },
    {
      "cell_type": "code",
      "source": [
        "import random\n",
        "def shuffle_list(lst):\n",
        "    random.shuffle(lst)\n",
        "    return lst"
      ],
      "metadata": {
        "id": "jCuG9g3Q11bg"
      },
      "execution_count": null,
      "outputs": []
    },
    {
      "cell_type": "code",
      "source": [
        "print(shuffle_list([1, 2, 3, 4, 5]))\n",
        "print(shuffle_list(['a', 'b', 'c', 'd', 'e']))"
      ],
      "metadata": {
        "colab": {
          "base_uri": "https://localhost:8080/"
        },
        "id": "vAKxtUrD11d2",
        "outputId": "05967be5-09c2-4c3f-bcfd-6ab42c049828"
      },
      "execution_count": null,
      "outputs": [
        {
          "output_type": "stream",
          "name": "stdout",
          "text": [
            "[3, 5, 4, 1, 2]\n",
            "['b', 'd', 'e', 'c', 'a']\n"
          ]
        }
      ]
    },
    {
      "cell_type": "code",
      "source": [
        "#Q8.Design a Python function named `partition_list` to partition a list into sublists of a given size."
      ],
      "metadata": {
        "id": "s18--3Pv11f-"
      },
      "execution_count": null,
      "outputs": []
    },
    {
      "cell_type": "code",
      "source": [
        "def partition_list(lst, size):\n",
        "    new_list=[]\n",
        "    for i in range(0,len(lst),size):\n",
        "        new_list.append(lst[i:i+size])\n",
        "    return new_list"
      ],
      "metadata": {
        "id": "x2ZBLUkh2612"
      },
      "execution_count": null,
      "outputs": []
    },
    {
      "cell_type": "code",
      "source": [
        "print(partition_list([1, 2, 3, 4, 5, 6, 7, 8, 9], 3))\n",
        "print(partition_list(['a', 'b', 'c', 'd', 'e', 'f', 'g'], 2))"
      ],
      "metadata": {
        "colab": {
          "base_uri": "https://localhost:8080/"
        },
        "id": "gX5LptgR264n",
        "outputId": "8c33b460-6214-4281-fc97-93afcdff906e"
      },
      "execution_count": null,
      "outputs": [
        {
          "output_type": "stream",
          "name": "stdout",
          "text": [
            "[[1, 2, 3], [4, 5, 6], [7, 8, 9]]\n",
            "[['a', 'b'], ['c', 'd'], ['e', 'f'], ['g']]\n"
          ]
        }
      ]
    },
    {
      "cell_type": "code",
      "source": [
        "#Q9.Design a Python function named `is_palindromic_list` to check if a list is palindromic (reads the same forwards and backwards)"
      ],
      "metadata": {
        "id": "nOsjpUZl267G"
      },
      "execution_count": null,
      "outputs": []
    },
    {
      "cell_type": "code",
      "source": [
        "def is_palindromic_list(lst):\n",
        "    return lst==lst[::-1]"
      ],
      "metadata": {
        "id": "lOJ3ovg126_P"
      },
      "execution_count": null,
      "outputs": []
    },
    {
      "cell_type": "code",
      "source": [
        "print(is_palindromic_list([1, 2, 3, 2, 1]))\n",
        "print(is_palindromic_list(['a', 'b', 'c', 'b', 'a']))\n",
        "print(is_palindromic_list([1, 2, 3, 4, 5]))\n",
        "print(is_palindromic_list(['x', 'y', 'z', 'x']))\n",
        "print(is_palindromic_list(['a']))"
      ],
      "metadata": {
        "colab": {
          "base_uri": "https://localhost:8080/"
        },
        "id": "dOsVti4x27CC",
        "outputId": "5d172f11-23c2-4e2b-8411-8c3ab77b0d6d"
      },
      "execution_count": null,
      "outputs": [
        {
          "output_type": "stream",
          "name": "stdout",
          "text": [
            "True\n",
            "True\n",
            "False\n",
            "False\n",
            "True\n"
          ]
        }
      ]
    },
    {
      "cell_type": "code",
      "source": [
        "#Q10.Design a Python function named remove_items_at_even_indices` to remove items at even indices from a list."
      ],
      "metadata": {
        "id": "k4QO1nOa11im"
      },
      "execution_count": null,
      "outputs": []
    },
    {
      "cell_type": "code",
      "source": [
        "def remove_items_at_even_indices(lst):\n",
        "    new_lst=[]\n",
        "    for i in range(1,len(lst),2):\n",
        "        new_lst.append(lst[i])\n",
        "    return new_lst"
      ],
      "metadata": {
        "id": "ahnQJyCA11kv"
      },
      "execution_count": null,
      "outputs": []
    },
    {
      "cell_type": "code",
      "source": [
        "print(remove_items_at_even_indices([1, 2, 3, 4, 5]))\n",
        "print(remove_items_at_even_indices(['a', 'b', 'c', 'd', 'e', 'f']))"
      ],
      "metadata": {
        "colab": {
          "base_uri": "https://localhost:8080/"
        },
        "id": "oLo3D3KM11nE",
        "outputId": "2d952534-2846-4a5f-e985-0c92e712acac"
      },
      "execution_count": null,
      "outputs": [
        {
          "output_type": "stream",
          "name": "stdout",
          "text": [
            "[2, 4]\n",
            "['b', 'd', 'f']\n"
          ]
        }
      ]
    },
    {
      "cell_type": "code",
      "source": [],
      "metadata": {
        "id": "2jdeeDK_3LwJ"
      },
      "execution_count": null,
      "outputs": []
    }
  ]
}