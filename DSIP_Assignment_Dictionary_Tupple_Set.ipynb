{
  "nbformat": 4,
  "nbformat_minor": 0,
  "metadata": {
    "colab": {
      "provenance": []
    },
    "kernelspec": {
      "name": "python3",
      "display_name": "Python 3"
    },
    "language_info": {
      "name": "python"
    }
  },
  "cells": [
    {
      "cell_type": "code",
      "source": [
        "# Question 1: Counting Occurrences of Characters in a String and Storing in a Dictionary"
      ],
      "metadata": {
        "id": "sIX1vO_Ndjlu"
      },
      "execution_count": 1,
      "outputs": []
    },
    {
      "cell_type": "code",
      "source": [
        "def countingcharacters(string):\n",
        "    dictionary={}\n",
        "    for char in string:\n",
        "        if char in dictionary:\n",
        "            dictionary[char]=dictionary[char]+1\n",
        "        else:\n",
        "            dictionary[char]=1\n",
        "    return dictionary"
      ],
      "metadata": {
        "id": "knl9oCWLdkVU"
      },
      "execution_count": 2,
      "outputs": []
    },
    {
      "cell_type": "code",
      "source": [
        "print(countingcharacters('hello'))"
      ],
      "metadata": {
        "colab": {
          "base_uri": "https://localhost:8080/"
        },
        "id": "Rmz3gHyGdtJ3",
        "outputId": "31924dab-fbd7-4245-bddf-2c07515c40a0"
      },
      "execution_count": 3,
      "outputs": [
        {
          "output_type": "stream",
          "name": "stdout",
          "text": [
            "{'h': 1, 'e': 1, 'l': 2, 'o': 1}\n"
          ]
        }
      ]
    },
    {
      "cell_type": "code",
      "source": [
        "print(countingcharacters(\"hello world\"))"
      ],
      "metadata": {
        "colab": {
          "base_uri": "https://localhost:8080/"
        },
        "id": "sPwISCr4d6Xc",
        "outputId": "f4b9312d-53be-49c6-aac7-27b09978eb7d"
      },
      "execution_count": 4,
      "outputs": [
        {
          "output_type": "stream",
          "name": "stdout",
          "text": [
            "{'h': 1, 'e': 1, 'l': 3, 'o': 2, ' ': 1, 'w': 1, 'r': 1, 'd': 1}\n"
          ]
        }
      ]
    },
    {
      "cell_type": "code",
      "source": [
        "# Question 2: Merging Two Lists into a Dictionary"
      ],
      "metadata": {
        "id": "G8lBZADGeCLp"
      },
      "execution_count": 5,
      "outputs": []
    },
    {
      "cell_type": "code",
      "source": [
        "def mergetwolist(key, value):\n",
        "    dictionary={}\n",
        "    for key1, value1 in zip(key, value):\n",
        "        dictionary[key1]=value1\n",
        "    return dictionary"
      ],
      "metadata": {
        "id": "aMdz_lbieF1I"
      },
      "execution_count": 6,
      "outputs": []
    },
    {
      "cell_type": "code",
      "source": [
        "print(mergetwolist(['a', 'b', 'c'], [1, 2, 3]))"
      ],
      "metadata": {
        "colab": {
          "base_uri": "https://localhost:8080/"
        },
        "id": "8lCHbZAseKe5",
        "outputId": "e2c80844-abbc-4c30-adbc-14ce4125cce8"
      },
      "execution_count": 7,
      "outputs": [
        {
          "output_type": "stream",
          "name": "stdout",
          "text": [
            "{'a': 1, 'b': 2, 'c': 3}\n"
          ]
        }
      ]
    },
    {
      "cell_type": "code",
      "source": [
        "print(mergetwolist(['x', 'y', 'z'], [10, 20, 30]))"
      ],
      "metadata": {
        "colab": {
          "base_uri": "https://localhost:8080/"
        },
        "id": "J7KxxkzieYh-",
        "outputId": "d8dd49f7-128c-4b4d-9917-cc8cfa7cc5b8"
      },
      "execution_count": 8,
      "outputs": [
        {
          "output_type": "stream",
          "name": "stdout",
          "text": [
            "{'x': 10, 'y': 20, 'z': 30}\n"
          ]
        }
      ]
    },
    {
      "cell_type": "code",
      "source": [
        "# Question 3: Removing Duplicates from a List and Converting to Tuple"
      ],
      "metadata": {
        "id": "KywOxhU7ecPe"
      },
      "execution_count": 9,
      "outputs": []
    },
    {
      "cell_type": "code",
      "source": [
        "def removeduplicates(list1):\n",
        "    set1=set()\n",
        "    for element in list1:\n",
        "        set1.add(element)\n",
        "    return tuple(set1)"
      ],
      "metadata": {
        "id": "zfCz5JH9efi1"
      },
      "execution_count": 10,
      "outputs": []
    },
    {
      "cell_type": "code",
      "source": [
        "print(removeduplicates([1, 2, 2, 3, 4, 4, 5]))"
      ],
      "metadata": {
        "colab": {
          "base_uri": "https://localhost:8080/"
        },
        "id": "9lvRxPH4ekEy",
        "outputId": "5cf1780a-8b53-47ac-bc10-0fdb578b9ea1"
      },
      "execution_count": 11,
      "outputs": [
        {
          "output_type": "stream",
          "name": "stdout",
          "text": [
            "(1, 2, 3, 4, 5)\n"
          ]
        }
      ]
    },
    {
      "cell_type": "code",
      "source": [
        "print(removeduplicates(['a', 'b', 'a', 'c', 'd', 'b']))"
      ],
      "metadata": {
        "colab": {
          "base_uri": "https://localhost:8080/"
        },
        "id": "5bCWHC9hetPR",
        "outputId": "207b8c3d-cac8-4ea4-c3bd-d4e62f1952fe"
      },
      "execution_count": 12,
      "outputs": [
        {
          "output_type": "stream",
          "name": "stdout",
          "text": [
            "('b', 'a', 'd', 'c')\n"
          ]
        }
      ]
    },
    {
      "cell_type": "code",
      "source": [
        "# Question 4: Checking Subset Relationship Between Sets"
      ],
      "metadata": {
        "id": "gJuApVzGexqd"
      },
      "execution_count": 13,
      "outputs": []
    },
    {
      "cell_type": "code",
      "source": [
        "def issubset(set1,set2):\n",
        "    print(set1.issubset(set2))"
      ],
      "metadata": {
        "id": "cSeZibNxe11N"
      },
      "execution_count": 14,
      "outputs": []
    },
    {
      "cell_type": "code",
      "source": [
        "issubset({1, 2, 3}, {1, 2, 3, 4, 5})"
      ],
      "metadata": {
        "colab": {
          "base_uri": "https://localhost:8080/"
        },
        "id": "EktDQSCce5Tn",
        "outputId": "08ff3424-e819-4031-ba5a-51be1d2005aa"
      },
      "execution_count": 15,
      "outputs": [
        {
          "output_type": "stream",
          "name": "stdout",
          "text": [
            "True\n"
          ]
        }
      ]
    },
    {
      "cell_type": "code",
      "source": [
        "issubset({'a', 'b', 'c'}, {'a', 'b', 'c', 'd', 'e'})"
      ],
      "metadata": {
        "colab": {
          "base_uri": "https://localhost:8080/"
        },
        "id": "d_nEpvGofAzi",
        "outputId": "dcc8afd2-2591-4997-c451-00c4b196032a"
      },
      "execution_count": 16,
      "outputs": [
        {
          "output_type": "stream",
          "name": "stdout",
          "text": [
            "True\n"
          ]
        }
      ]
    },
    {
      "cell_type": "code",
      "source": [
        "# Question 5: Merging Multiple Dictionaries into One"
      ],
      "metadata": {
        "id": "n0Q2CnF6fEdP"
      },
      "execution_count": 17,
      "outputs": []
    },
    {
      "cell_type": "code",
      "source": [
        "def merge_multiple_dictionaries(*dicts):\n",
        "    new_dict={}\n",
        "    for dicti in dicts:\n",
        "        new_dict.update(dicti)\n",
        "    return new_dict"
      ],
      "metadata": {
        "id": "A1wNCERVfH81"
      },
      "execution_count": 18,
      "outputs": []
    },
    {
      "cell_type": "code",
      "source": [
        "print(merge_multiple_dictionaries({'a': 1, 'b': 2}, {'c': 3, 'd': 4}, {'e': 5, 'f': 6}))"
      ],
      "metadata": {
        "colab": {
          "base_uri": "https://localhost:8080/"
        },
        "id": "Ua6iOTNRfO-K",
        "outputId": "a8c76e20-6c43-4af3-e47a-992313ddca51"
      },
      "execution_count": 19,
      "outputs": [
        {
          "output_type": "stream",
          "name": "stdout",
          "text": [
            "{'a': 1, 'b': 2, 'c': 3, 'd': 4, 'e': 5, 'f': 6}\n"
          ]
        }
      ]
    },
    {
      "cell_type": "code",
      "source": [
        "print(merge_multiple_dictionaries({'x': 10, 'y': 20}, {'z': 30}, {'a': 40, 'b': 50}))"
      ],
      "metadata": {
        "colab": {
          "base_uri": "https://localhost:8080/"
        },
        "id": "-BS9Kf5Rfb0B",
        "outputId": "5ac456e2-e5b2-4062-e104-eb02a73ccee2"
      },
      "execution_count": 20,
      "outputs": [
        {
          "output_type": "stream",
          "name": "stdout",
          "text": [
            "{'x': 10, 'y': 20, 'z': 30, 'a': 40, 'b': 50}\n"
          ]
        }
      ]
    },
    {
      "cell_type": "code",
      "source": [
        "# Question 6: Finding Intersection of Multiple Sets"
      ],
      "metadata": {
        "id": "_Et6wBHgfgUb"
      },
      "execution_count": 21,
      "outputs": []
    },
    {
      "cell_type": "code",
      "source": [
        "def setsIntersection(*sets):\n",
        "    if not sets:\n",
        "        return set()\n",
        "    else:\n",
        "        return set.intersection(*sets)"
      ],
      "metadata": {
        "id": "LHXB8T-DfjMU"
      },
      "execution_count": 22,
      "outputs": []
    },
    {
      "cell_type": "code",
      "source": [
        "print(setsIntersection({1, 2, 3}, {2, 3, 4}, {3, 4, 5}))"
      ],
      "metadata": {
        "colab": {
          "base_uri": "https://localhost:8080/"
        },
        "id": "CxwunJFhfoj3",
        "outputId": "49d39820-0915-4d26-a7e5-7cbe486e7adc"
      },
      "execution_count": 23,
      "outputs": [
        {
          "output_type": "stream",
          "name": "stdout",
          "text": [
            "{3}\n"
          ]
        }
      ]
    },
    {
      "cell_type": "code",
      "source": [
        "print(setsIntersection({'a', 'b', 'c'}, {'b', 'c', 'd'}, {'c', 'd', 'e'}))"
      ],
      "metadata": {
        "colab": {
          "base_uri": "https://localhost:8080/"
        },
        "id": "nJOriL5uf2cM",
        "outputId": "9285e3e0-5216-4cbc-a4c4-a443a4e00d51"
      },
      "execution_count": 24,
      "outputs": [
        {
          "output_type": "stream",
          "name": "stdout",
          "text": [
            "{'c'}\n"
          ]
        }
      ]
    },
    {
      "cell_type": "code",
      "source": [
        "# Question 7: Counting Frequency of Words in a Sentence"
      ],
      "metadata": {
        "id": "TEIYgCJvf-gS"
      },
      "execution_count": 25,
      "outputs": []
    },
    {
      "cell_type": "code",
      "source": [
        "def counting_frequency(sentence):\n",
        "    frequency={}\n",
        "    for word in sentence.split():\n",
        "        frequency[word]=frequency.get(word,0)+1\n",
        "    return frequency"
      ],
      "metadata": {
        "id": "1bu8yeQFgED5"
      },
      "execution_count": 26,
      "outputs": []
    },
    {
      "cell_type": "code",
      "source": [
        "print(counting_frequency(\"hello world hello\"))"
      ],
      "metadata": {
        "colab": {
          "base_uri": "https://localhost:8080/"
        },
        "id": "PyNu18GBgKlh",
        "outputId": "1b08b6c8-4249-4259-dad9-0f2bae360c47"
      },
      "execution_count": 27,
      "outputs": [
        {
          "output_type": "stream",
          "name": "stdout",
          "text": [
            "{'hello': 2, 'world': 1}\n"
          ]
        }
      ]
    },
    {
      "cell_type": "code",
      "source": [
        "print(counting_frequency(\"the quick brown fox jumps over the lazy dog\"))"
      ],
      "metadata": {
        "colab": {
          "base_uri": "https://localhost:8080/"
        },
        "id": "-4RpdT6igNvK",
        "outputId": "bb26f5a2-3a78-4d08-80e5-25d19be5e453"
      },
      "execution_count": 28,
      "outputs": [
        {
          "output_type": "stream",
          "name": "stdout",
          "text": [
            "{'the': 2, 'quick': 1, 'brown': 1, 'fox': 1, 'jumps': 1, 'over': 1, 'lazy': 1, 'dog': 1}\n"
          ]
        }
      ]
    },
    {
      "cell_type": "code",
      "source": [
        "# Question 8: Checking for Palindromic Tuples"
      ],
      "metadata": {
        "id": "p9fYdWvEghV9"
      },
      "execution_count": 29,
      "outputs": []
    },
    {
      "cell_type": "code",
      "source": [
        "def checkPalindromTuple(tup):\n",
        "    return tup==tup[::-1]"
      ],
      "metadata": {
        "id": "YrxnWEUpglG6"
      },
      "execution_count": 30,
      "outputs": []
    },
    {
      "cell_type": "code",
      "source": [
        "print(checkPalindromTuple((1, 2, 3, 2, 1)))"
      ],
      "metadata": {
        "colab": {
          "base_uri": "https://localhost:8080/"
        },
        "id": "kluSM3-KgoKn",
        "outputId": "ccaba27f-7c1e-415c-d649-3f6794cc9b6e"
      },
      "execution_count": 31,
      "outputs": [
        {
          "output_type": "stream",
          "name": "stdout",
          "text": [
            "True\n"
          ]
        }
      ]
    },
    {
      "cell_type": "code",
      "source": [
        "print(checkPalindromTuple(('a', 'b', 'c', 'b', 'a')))"
      ],
      "metadata": {
        "colab": {
          "base_uri": "https://localhost:8080/"
        },
        "id": "3Nqb1tZvgrcB",
        "outputId": "da43753b-fdf7-4c29-a473-3423299c8e92"
      },
      "execution_count": 32,
      "outputs": [
        {
          "output_type": "stream",
          "name": "stdout",
          "text": [
            "True\n"
          ]
        }
      ]
    },
    {
      "cell_type": "code",
      "source": [
        "# Question 9: Implementing a Function to Merge Dictionaries with Overlapping Keys"
      ],
      "metadata": {
        "id": "qW1WPnbXhHjk"
      },
      "execution_count": 33,
      "outputs": []
    },
    {
      "cell_type": "code",
      "source": [
        "def mergeDictionaries(*dicts):\n",
        "    merged_dictionary={}\n",
        "    for dicti in dicts:\n",
        "        for key,value in dicti.items():\n",
        "            if key in merged_dictionary:\n",
        "                merged_dictionary[key]+=value\n",
        "            else:\n",
        "                merged_dictionary[key]=value\n",
        "    return merged_dictionary"
      ],
      "metadata": {
        "id": "eR1cYB7uh6c3"
      },
      "execution_count": 34,
      "outputs": []
    },
    {
      "cell_type": "code",
      "source": [
        "print(mergeDictionaries({'a': 1, 'b': 2}, {'b': 3, 'c': 4}, {'c': 5, 'd': 6}))"
      ],
      "metadata": {
        "colab": {
          "base_uri": "https://localhost:8080/"
        },
        "id": "TbVRXt5oh_KV",
        "outputId": "4f99640b-4ee9-45d2-ac12-c1d47f15fcbe"
      },
      "execution_count": 37,
      "outputs": [
        {
          "output_type": "stream",
          "name": "stdout",
          "text": [
            "{'a': 1, 'b': 5, 'c': 9, 'd': 6}\n"
          ]
        }
      ]
    },
    {
      "cell_type": "code",
      "source": [
        "print(mergeDictionaries({'x': 10, 'y': 20}, {'y': 30, 'z': 40}, {'z': 50, 'x': 60}))"
      ],
      "metadata": {
        "colab": {
          "base_uri": "https://localhost:8080/"
        },
        "id": "LBgUBL5biCfd",
        "outputId": "2bbb2373-ca78-40d2-a3d7-a35583ab5689"
      },
      "execution_count": 38,
      "outputs": [
        {
          "output_type": "stream",
          "name": "stdout",
          "text": [
            "{'x': 70, 'y': 50, 'z': 90}\n"
          ]
        }
      ]
    },
    {
      "cell_type": "code",
      "source": [
        "# Question 10: Implementing a Function to Check if All Values in a Dictionary are Unique"
      ],
      "metadata": {
        "id": "ld645kNkiZnX"
      },
      "execution_count": 39,
      "outputs": []
    },
    {
      "cell_type": "code",
      "source": [
        "def valuesUnique(dict1):\n",
        "    list1=[]\n",
        "    for key,value in dict1.items():\n",
        "        list1.append(value)\n",
        "    #print(list1)\n",
        "    return len(list1)==len(set(list1))"
      ],
      "metadata": {
        "id": "Qh1e2Kj0ib5S"
      },
      "execution_count": 40,
      "outputs": []
    },
    {
      "cell_type": "code",
      "source": [
        "print(valuesUnique({'a': 1, 'b': 2, 'c': 3}))"
      ],
      "metadata": {
        "colab": {
          "base_uri": "https://localhost:8080/"
        },
        "id": "xyj0kkr7igqV",
        "outputId": "5819b85d-aa94-4b6a-d695-cbb1b0af11a4"
      },
      "execution_count": 41,
      "outputs": [
        {
          "output_type": "stream",
          "name": "stdout",
          "text": [
            "True\n"
          ]
        }
      ]
    },
    {
      "cell_type": "code",
      "source": [
        "print(valuesUnique({'x': 1, 'y': 2, 'z': 2}))"
      ],
      "metadata": {
        "colab": {
          "base_uri": "https://localhost:8080/"
        },
        "id": "yIZDelXJij6c",
        "outputId": "59ed4af9-08d2-43eb-dcf1-727286f97545"
      },
      "execution_count": 42,
      "outputs": [
        {
          "output_type": "stream",
          "name": "stdout",
          "text": [
            "False\n"
          ]
        }
      ]
    },
    {
      "cell_type": "code",
      "source": [],
      "metadata": {
        "id": "kCX2xIYTisg9"
      },
      "execution_count": null,
      "outputs": []
    }
  ]
}